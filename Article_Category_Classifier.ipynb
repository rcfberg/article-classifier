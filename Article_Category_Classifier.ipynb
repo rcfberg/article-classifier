{
  "nbformat": 4,
  "nbformat_minor": 0,
  "metadata": {
    "colab": {
      "name": "Article Category Classifier.ipynb",
      "provenance": []
    },
    "kernelspec": {
      "name": "python3",
      "display_name": "Python 3"
    },
    "language_info": {
      "name": "python"
    }
  },
  "cells": [
    {
      "cell_type": "markdown",
      "source": [
        "Robin Forsberg 2022"
      ],
      "metadata": {
        "id": "OKQcBrPdsKTv"
      }
    },
    {
      "cell_type": "code",
      "execution_count": null,
      "metadata": {
        "id": "8XQPE81Trqi-"
      },
      "outputs": [],
      "source": [
        "from sklearn.feature_extraction.text import TfidfVectorizer\n",
        "from sklearn.ensemble import RandomForestClassifier\n",
        "from sklearn import preprocessing\n",
        "import pandas as pd\n",
        "import json\n",
        "import pickle"
      ]
    },
    {
      "cell_type": "code",
      "source": [
        "financial_corpus_df = pd.read_csv('training_data.csv')"
      ],
      "metadata": {
        "id": "ZWNfKgVasWQT"
      },
      "execution_count": null,
      "outputs": []
    },
    {
      "cell_type": "code",
      "source": [
        "financial_corpus_df"
      ],
      "metadata": {
        "colab": {
          "base_uri": "https://localhost:8080/",
          "height": 467
        },
        "id": "mBN7HFbFtA5e",
        "outputId": "801474f0-ff01-4158-8f84-ef0504489221"
      },
      "execution_count": null,
      "outputs": [
        {
          "output_type": "execute_result",
          "data": {
            "text/html": [
              "\n",
              "  <div id=\"df-e69495f1-259f-43e1-8cac-a8cdc4c1a912\">\n",
              "    <div class=\"colab-df-container\">\n",
              "      <div>\n",
              "<style scoped>\n",
              "    .dataframe tbody tr th:only-of-type {\n",
              "        vertical-align: middle;\n",
              "    }\n",
              "\n",
              "    .dataframe tbody tr th {\n",
              "        vertical-align: top;\n",
              "    }\n",
              "\n",
              "    .dataframe thead th {\n",
              "        text-align: right;\n",
              "    }\n",
              "</style>\n",
              "<table border=\"1\" class=\"dataframe\">\n",
              "  <thead>\n",
              "    <tr style=\"text-align: right;\">\n",
              "      <th></th>\n",
              "      <th>id</th>\n",
              "      <th>category</th>\n",
              "      <th>title</th>\n",
              "      <th>body</th>\n",
              "    </tr>\n",
              "  </thead>\n",
              "  <tbody>\n",
              "    <tr>\n",
              "      <th>0</th>\n",
              "      <td>5639</td>\n",
              "      <td>International_Finance</td>\n",
              "      <td>How Has Devaluation of the Yuan Impacted Globa...</td>\n",
              "      <td>How Has the Devaluation of the Yuan Impacted G...</td>\n",
              "    </tr>\n",
              "    <tr>\n",
              "      <th>1</th>\n",
              "      <td>2673</td>\n",
              "      <td>Earning_Reports</td>\n",
              "      <td>Qorvo® Announces Fiscal 2022 Third Quarter Fin...</td>\n",
              "      <td>GREENSBORO, N.C., Feb. 02, 2022 (GLOBE NEWSWIR...</td>\n",
              "    </tr>\n",
              "    <tr>\n",
              "      <th>2</th>\n",
              "      <td>2056</td>\n",
              "      <td>Commodities</td>\n",
              "      <td>Why Gatos Silver Stock Fell Another 15.5% at t...</td>\n",
              "      <td>Shares of Gatos Silver (NYSE:GATO) fell 15.5% ...</td>\n",
              "    </tr>\n",
              "    <tr>\n",
              "      <th>3</th>\n",
              "      <td>3455</td>\n",
              "      <td>Economy</td>\n",
              "      <td>Healthcare industry expects Budget 2022 to hik...</td>\n",
              "      <td>Healthcare industry expects Budget 2022 to hik...</td>\n",
              "    </tr>\n",
              "    <tr>\n",
              "      <th>4</th>\n",
              "      <td>4406</td>\n",
              "      <td>Fraud</td>\n",
              "      <td>American FX Fund CEO Sent to Jail for Running ...</td>\n",
              "      <td>The U.S Federal Bureau of Investigation (FBI) ...</td>\n",
              "    </tr>\n",
              "    <tr>\n",
              "      <th>...</th>\n",
              "      <td>...</td>\n",
              "      <td>...</td>\n",
              "      <td>...</td>\n",
              "      <td>...</td>\n",
              "    </tr>\n",
              "    <tr>\n",
              "      <th>2201</th>\n",
              "      <td>332</td>\n",
              "      <td>Capital</td>\n",
              "      <td>Europe euphoria remains despite China crash, s...</td>\n",
              "      <td>Europe remains a robust investment despite the...</td>\n",
              "    </tr>\n",
              "    <tr>\n",
              "      <th>2202</th>\n",
              "      <td>6363</td>\n",
              "      <td>Litigation</td>\n",
              "      <td>Facebook faces $3.1 billion class-action lawsu...</td>\n",
              "      <td>A British academic wants Facebook to pay more ...</td>\n",
              "    </tr>\n",
              "    <tr>\n",
              "      <th>2203</th>\n",
              "      <td>9089</td>\n",
              "      <td>Policy</td>\n",
              "      <td>Kulicke and Soffa: Fiscal Q1 Earnings Snapshot</td>\n",
              "      <td>SINGAPORE (AP) _ Kulicke and Soffa Industries ...</td>\n",
              "    </tr>\n",
              "    <tr>\n",
              "      <th>2204</th>\n",
              "      <td>5900</td>\n",
              "      <td>International_Finance</td>\n",
              "      <td>Paxos Welcomes Ben Gray as Global General Coun...</td>\n",
              "      <td>Gray Brings Proven Experience in Scaling Globa...</td>\n",
              "    </tr>\n",
              "    <tr>\n",
              "      <th>2205</th>\n",
              "      <td>8182</td>\n",
              "      <td>Oil</td>\n",
              "      <td>Oil analysts predict a prolonged rally as OPEC...</td>\n",
              "      <td>NaN</td>\n",
              "    </tr>\n",
              "  </tbody>\n",
              "</table>\n",
              "<p>2206 rows × 4 columns</p>\n",
              "</div>\n",
              "      <button class=\"colab-df-convert\" onclick=\"convertToInteractive('df-e69495f1-259f-43e1-8cac-a8cdc4c1a912')\"\n",
              "              title=\"Convert this dataframe to an interactive table.\"\n",
              "              style=\"display:none;\">\n",
              "        \n",
              "  <svg xmlns=\"http://www.w3.org/2000/svg\" height=\"24px\"viewBox=\"0 0 24 24\"\n",
              "       width=\"24px\">\n",
              "    <path d=\"M0 0h24v24H0V0z\" fill=\"none\"/>\n",
              "    <path d=\"M18.56 5.44l.94 2.06.94-2.06 2.06-.94-2.06-.94-.94-2.06-.94 2.06-2.06.94zm-11 1L8.5 8.5l.94-2.06 2.06-.94-2.06-.94L8.5 2.5l-.94 2.06-2.06.94zm10 10l.94 2.06.94-2.06 2.06-.94-2.06-.94-.94-2.06-.94 2.06-2.06.94z\"/><path d=\"M17.41 7.96l-1.37-1.37c-.4-.4-.92-.59-1.43-.59-.52 0-1.04.2-1.43.59L10.3 9.45l-7.72 7.72c-.78.78-.78 2.05 0 2.83L4 21.41c.39.39.9.59 1.41.59.51 0 1.02-.2 1.41-.59l7.78-7.78 2.81-2.81c.8-.78.8-2.07 0-2.86zM5.41 20L4 18.59l7.72-7.72 1.47 1.35L5.41 20z\"/>\n",
              "  </svg>\n",
              "      </button>\n",
              "      \n",
              "  <style>\n",
              "    .colab-df-container {\n",
              "      display:flex;\n",
              "      flex-wrap:wrap;\n",
              "      gap: 12px;\n",
              "    }\n",
              "\n",
              "    .colab-df-convert {\n",
              "      background-color: #E8F0FE;\n",
              "      border: none;\n",
              "      border-radius: 50%;\n",
              "      cursor: pointer;\n",
              "      display: none;\n",
              "      fill: #1967D2;\n",
              "      height: 32px;\n",
              "      padding: 0 0 0 0;\n",
              "      width: 32px;\n",
              "    }\n",
              "\n",
              "    .colab-df-convert:hover {\n",
              "      background-color: #E2EBFA;\n",
              "      box-shadow: 0px 1px 2px rgba(60, 64, 67, 0.3), 0px 1px 3px 1px rgba(60, 64, 67, 0.15);\n",
              "      fill: #174EA6;\n",
              "    }\n",
              "\n",
              "    [theme=dark] .colab-df-convert {\n",
              "      background-color: #3B4455;\n",
              "      fill: #D2E3FC;\n",
              "    }\n",
              "\n",
              "    [theme=dark] .colab-df-convert:hover {\n",
              "      background-color: #434B5C;\n",
              "      box-shadow: 0px 1px 3px 1px rgba(0, 0, 0, 0.15);\n",
              "      filter: drop-shadow(0px 1px 2px rgba(0, 0, 0, 0.3));\n",
              "      fill: #FFFFFF;\n",
              "    }\n",
              "  </style>\n",
              "\n",
              "      <script>\n",
              "        const buttonEl =\n",
              "          document.querySelector('#df-e69495f1-259f-43e1-8cac-a8cdc4c1a912 button.colab-df-convert');\n",
              "        buttonEl.style.display =\n",
              "          google.colab.kernel.accessAllowed ? 'block' : 'none';\n",
              "\n",
              "        async function convertToInteractive(key) {\n",
              "          const element = document.querySelector('#df-e69495f1-259f-43e1-8cac-a8cdc4c1a912');\n",
              "          const dataTable =\n",
              "            await google.colab.kernel.invokeFunction('convertToInteractive',\n",
              "                                                     [key], {});\n",
              "          if (!dataTable) return;\n",
              "\n",
              "          const docLinkHtml = 'Like what you see? Visit the ' +\n",
              "            '<a target=\"_blank\" href=https://colab.research.google.com/notebooks/data_table.ipynb>data table notebook</a>'\n",
              "            + ' to learn more about interactive tables.';\n",
              "          element.innerHTML = '';\n",
              "          dataTable['output_type'] = 'display_data';\n",
              "          await google.colab.output.renderOutput(dataTable, element);\n",
              "          const docLink = document.createElement('div');\n",
              "          docLink.innerHTML = docLinkHtml;\n",
              "          element.appendChild(docLink);\n",
              "        }\n",
              "      </script>\n",
              "    </div>\n",
              "  </div>\n",
              "  "
            ],
            "text/plain": [
              "        id               category  \\\n",
              "0     5639  International_Finance   \n",
              "1     2673        Earning_Reports   \n",
              "2     2056            Commodities   \n",
              "3     3455                Economy   \n",
              "4     4406                  Fraud   \n",
              "...    ...                    ...   \n",
              "2201   332                Capital   \n",
              "2202  6363             Litigation   \n",
              "2203  9089                 Policy   \n",
              "2204  5900  International_Finance   \n",
              "2205  8182                    Oil   \n",
              "\n",
              "                                                  title  \\\n",
              "0     How Has Devaluation of the Yuan Impacted Globa...   \n",
              "1     Qorvo® Announces Fiscal 2022 Third Quarter Fin...   \n",
              "2     Why Gatos Silver Stock Fell Another 15.5% at t...   \n",
              "3     Healthcare industry expects Budget 2022 to hik...   \n",
              "4     American FX Fund CEO Sent to Jail for Running ...   \n",
              "...                                                 ...   \n",
              "2201  Europe euphoria remains despite China crash, s...   \n",
              "2202  Facebook faces $3.1 billion class-action lawsu...   \n",
              "2203     Kulicke and Soffa: Fiscal Q1 Earnings Snapshot   \n",
              "2204  Paxos Welcomes Ben Gray as Global General Coun...   \n",
              "2205  Oil analysts predict a prolonged rally as OPEC...   \n",
              "\n",
              "                                                   body  \n",
              "0     How Has the Devaluation of the Yuan Impacted G...  \n",
              "1     GREENSBORO, N.C., Feb. 02, 2022 (GLOBE NEWSWIR...  \n",
              "2     Shares of Gatos Silver (NYSE:GATO) fell 15.5% ...  \n",
              "3     Healthcare industry expects Budget 2022 to hik...  \n",
              "4     The U.S Federal Bureau of Investigation (FBI) ...  \n",
              "...                                                 ...  \n",
              "2201  Europe remains a robust investment despite the...  \n",
              "2202  A British academic wants Facebook to pay more ...  \n",
              "2203  SINGAPORE (AP) _ Kulicke and Soffa Industries ...  \n",
              "2204  Gray Brings Proven Experience in Scaling Globa...  \n",
              "2205                                                NaN  \n",
              "\n",
              "[2206 rows x 4 columns]"
            ]
          },
          "metadata": {},
          "execution_count": 4
        }
      ]
    },
    {
      "cell_type": "code",
      "source": [
        "financial_corpus_df['category'].unique()"
      ],
      "metadata": {
        "colab": {
          "base_uri": "https://localhost:8080/"
        },
        "id": "1QP63vOotHbD",
        "outputId": "2342ef95-5aaa-4ff8-fbe7-3b61886b372e"
      },
      "execution_count": null,
      "outputs": [
        {
          "output_type": "execute_result",
          "data": {
            "text/plain": [
              "array(['International_Finance', 'Earning_Reports', 'Commodities',\n",
              "       'Economy', 'Fraud', 'Mergers_Acquisitions', 'Policy', 'Oil',\n",
              "       'Capital', 'Litigation', 'Real_Estate'], dtype=object)"
            ]
          },
          "metadata": {},
          "execution_count": 6
        }
      ]
    },
    {
      "cell_type": "code",
      "source": [
        "label_encoder = preprocessing.LabelEncoder()"
      ],
      "metadata": {
        "id": "SgfSK_nHxEd3"
      },
      "execution_count": null,
      "outputs": []
    },
    {
      "cell_type": "code",
      "source": [
        "label_encoder.fit(financial_corpus_df['category'])\n",
        "financial_corpus_df['label'] = label_encoder.transform(financial_corpus_df['category'])"
      ],
      "metadata": {
        "id": "Udncuix4xKlZ"
      },
      "execution_count": null,
      "outputs": []
    },
    {
      "cell_type": "code",
      "source": [
        "financial_corpus_df"
      ],
      "metadata": {
        "colab": {
          "base_uri": "https://localhost:8080/",
          "height": 502
        },
        "id": "73yfs7gfxO1J",
        "outputId": "1fcf3f1d-870d-4189-d467-c06dda07e733"
      },
      "execution_count": null,
      "outputs": [
        {
          "output_type": "execute_result",
          "data": {
            "text/html": [
              "\n",
              "  <div id=\"df-90f0597d-621f-42db-8b27-8c6aa309018b\">\n",
              "    <div class=\"colab-df-container\">\n",
              "      <div>\n",
              "<style scoped>\n",
              "    .dataframe tbody tr th:only-of-type {\n",
              "        vertical-align: middle;\n",
              "    }\n",
              "\n",
              "    .dataframe tbody tr th {\n",
              "        vertical-align: top;\n",
              "    }\n",
              "\n",
              "    .dataframe thead th {\n",
              "        text-align: right;\n",
              "    }\n",
              "</style>\n",
              "<table border=\"1\" class=\"dataframe\">\n",
              "  <thead>\n",
              "    <tr style=\"text-align: right;\">\n",
              "      <th></th>\n",
              "      <th>id</th>\n",
              "      <th>category</th>\n",
              "      <th>title</th>\n",
              "      <th>body</th>\n",
              "      <th>label</th>\n",
              "    </tr>\n",
              "  </thead>\n",
              "  <tbody>\n",
              "    <tr>\n",
              "      <th>0</th>\n",
              "      <td>5639</td>\n",
              "      <td>International_Finance</td>\n",
              "      <td>How Has Devaluation of the Yuan Impacted Globa...</td>\n",
              "      <td>How Has the Devaluation of the Yuan Impacted G...</td>\n",
              "      <td>5</td>\n",
              "    </tr>\n",
              "    <tr>\n",
              "      <th>1</th>\n",
              "      <td>2673</td>\n",
              "      <td>Earning_Reports</td>\n",
              "      <td>Qorvo® Announces Fiscal 2022 Third Quarter Fin...</td>\n",
              "      <td>GREENSBORO, N.C., Feb. 02, 2022 (GLOBE NEWSWIR...</td>\n",
              "      <td>2</td>\n",
              "    </tr>\n",
              "    <tr>\n",
              "      <th>2</th>\n",
              "      <td>2056</td>\n",
              "      <td>Commodities</td>\n",
              "      <td>Why Gatos Silver Stock Fell Another 15.5% at t...</td>\n",
              "      <td>Shares of Gatos Silver (NYSE:GATO) fell 15.5% ...</td>\n",
              "      <td>1</td>\n",
              "    </tr>\n",
              "    <tr>\n",
              "      <th>3</th>\n",
              "      <td>3455</td>\n",
              "      <td>Economy</td>\n",
              "      <td>Healthcare industry expects Budget 2022 to hik...</td>\n",
              "      <td>Healthcare industry expects Budget 2022 to hik...</td>\n",
              "      <td>3</td>\n",
              "    </tr>\n",
              "    <tr>\n",
              "      <th>4</th>\n",
              "      <td>4406</td>\n",
              "      <td>Fraud</td>\n",
              "      <td>American FX Fund CEO Sent to Jail for Running ...</td>\n",
              "      <td>The U.S Federal Bureau of Investigation (FBI) ...</td>\n",
              "      <td>4</td>\n",
              "    </tr>\n",
              "    <tr>\n",
              "      <th>...</th>\n",
              "      <td>...</td>\n",
              "      <td>...</td>\n",
              "      <td>...</td>\n",
              "      <td>...</td>\n",
              "      <td>...</td>\n",
              "    </tr>\n",
              "    <tr>\n",
              "      <th>2201</th>\n",
              "      <td>332</td>\n",
              "      <td>Capital</td>\n",
              "      <td>Europe euphoria remains despite China crash, s...</td>\n",
              "      <td>Europe remains a robust investment despite the...</td>\n",
              "      <td>0</td>\n",
              "    </tr>\n",
              "    <tr>\n",
              "      <th>2202</th>\n",
              "      <td>6363</td>\n",
              "      <td>Litigation</td>\n",
              "      <td>Facebook faces $3.1 billion class-action lawsu...</td>\n",
              "      <td>A British academic wants Facebook to pay more ...</td>\n",
              "      <td>6</td>\n",
              "    </tr>\n",
              "    <tr>\n",
              "      <th>2203</th>\n",
              "      <td>9089</td>\n",
              "      <td>Policy</td>\n",
              "      <td>Kulicke and Soffa: Fiscal Q1 Earnings Snapshot</td>\n",
              "      <td>SINGAPORE (AP) _ Kulicke and Soffa Industries ...</td>\n",
              "      <td>9</td>\n",
              "    </tr>\n",
              "    <tr>\n",
              "      <th>2204</th>\n",
              "      <td>5900</td>\n",
              "      <td>International_Finance</td>\n",
              "      <td>Paxos Welcomes Ben Gray as Global General Coun...</td>\n",
              "      <td>Gray Brings Proven Experience in Scaling Globa...</td>\n",
              "      <td>5</td>\n",
              "    </tr>\n",
              "    <tr>\n",
              "      <th>2205</th>\n",
              "      <td>8182</td>\n",
              "      <td>Oil</td>\n",
              "      <td>Oil analysts predict a prolonged rally as OPEC...</td>\n",
              "      <td>NaN</td>\n",
              "      <td>8</td>\n",
              "    </tr>\n",
              "  </tbody>\n",
              "</table>\n",
              "<p>2206 rows × 5 columns</p>\n",
              "</div>\n",
              "      <button class=\"colab-df-convert\" onclick=\"convertToInteractive('df-90f0597d-621f-42db-8b27-8c6aa309018b')\"\n",
              "              title=\"Convert this dataframe to an interactive table.\"\n",
              "              style=\"display:none;\">\n",
              "        \n",
              "  <svg xmlns=\"http://www.w3.org/2000/svg\" height=\"24px\"viewBox=\"0 0 24 24\"\n",
              "       width=\"24px\">\n",
              "    <path d=\"M0 0h24v24H0V0z\" fill=\"none\"/>\n",
              "    <path d=\"M18.56 5.44l.94 2.06.94-2.06 2.06-.94-2.06-.94-.94-2.06-.94 2.06-2.06.94zm-11 1L8.5 8.5l.94-2.06 2.06-.94-2.06-.94L8.5 2.5l-.94 2.06-2.06.94zm10 10l.94 2.06.94-2.06 2.06-.94-2.06-.94-.94-2.06-.94 2.06-2.06.94z\"/><path d=\"M17.41 7.96l-1.37-1.37c-.4-.4-.92-.59-1.43-.59-.52 0-1.04.2-1.43.59L10.3 9.45l-7.72 7.72c-.78.78-.78 2.05 0 2.83L4 21.41c.39.39.9.59 1.41.59.51 0 1.02-.2 1.41-.59l7.78-7.78 2.81-2.81c.8-.78.8-2.07 0-2.86zM5.41 20L4 18.59l7.72-7.72 1.47 1.35L5.41 20z\"/>\n",
              "  </svg>\n",
              "      </button>\n",
              "      \n",
              "  <style>\n",
              "    .colab-df-container {\n",
              "      display:flex;\n",
              "      flex-wrap:wrap;\n",
              "      gap: 12px;\n",
              "    }\n",
              "\n",
              "    .colab-df-convert {\n",
              "      background-color: #E8F0FE;\n",
              "      border: none;\n",
              "      border-radius: 50%;\n",
              "      cursor: pointer;\n",
              "      display: none;\n",
              "      fill: #1967D2;\n",
              "      height: 32px;\n",
              "      padding: 0 0 0 0;\n",
              "      width: 32px;\n",
              "    }\n",
              "\n",
              "    .colab-df-convert:hover {\n",
              "      background-color: #E2EBFA;\n",
              "      box-shadow: 0px 1px 2px rgba(60, 64, 67, 0.3), 0px 1px 3px 1px rgba(60, 64, 67, 0.15);\n",
              "      fill: #174EA6;\n",
              "    }\n",
              "\n",
              "    [theme=dark] .colab-df-convert {\n",
              "      background-color: #3B4455;\n",
              "      fill: #D2E3FC;\n",
              "    }\n",
              "\n",
              "    [theme=dark] .colab-df-convert:hover {\n",
              "      background-color: #434B5C;\n",
              "      box-shadow: 0px 1px 3px 1px rgba(0, 0, 0, 0.15);\n",
              "      filter: drop-shadow(0px 1px 2px rgba(0, 0, 0, 0.3));\n",
              "      fill: #FFFFFF;\n",
              "    }\n",
              "  </style>\n",
              "\n",
              "      <script>\n",
              "        const buttonEl =\n",
              "          document.querySelector('#df-90f0597d-621f-42db-8b27-8c6aa309018b button.colab-df-convert');\n",
              "        buttonEl.style.display =\n",
              "          google.colab.kernel.accessAllowed ? 'block' : 'none';\n",
              "\n",
              "        async function convertToInteractive(key) {\n",
              "          const element = document.querySelector('#df-90f0597d-621f-42db-8b27-8c6aa309018b');\n",
              "          const dataTable =\n",
              "            await google.colab.kernel.invokeFunction('convertToInteractive',\n",
              "                                                     [key], {});\n",
              "          if (!dataTable) return;\n",
              "\n",
              "          const docLinkHtml = 'Like what you see? Visit the ' +\n",
              "            '<a target=\"_blank\" href=https://colab.research.google.com/notebooks/data_table.ipynb>data table notebook</a>'\n",
              "            + ' to learn more about interactive tables.';\n",
              "          element.innerHTML = '';\n",
              "          dataTable['output_type'] = 'display_data';\n",
              "          await google.colab.output.renderOutput(dataTable, element);\n",
              "          const docLink = document.createElement('div');\n",
              "          docLink.innerHTML = docLinkHtml;\n",
              "          element.appendChild(docLink);\n",
              "        }\n",
              "      </script>\n",
              "    </div>\n",
              "  </div>\n",
              "  "
            ],
            "text/plain": [
              "        id               category  \\\n",
              "0     5639  International_Finance   \n",
              "1     2673        Earning_Reports   \n",
              "2     2056            Commodities   \n",
              "3     3455                Economy   \n",
              "4     4406                  Fraud   \n",
              "...    ...                    ...   \n",
              "2201   332                Capital   \n",
              "2202  6363             Litigation   \n",
              "2203  9089                 Policy   \n",
              "2204  5900  International_Finance   \n",
              "2205  8182                    Oil   \n",
              "\n",
              "                                                  title  \\\n",
              "0     How Has Devaluation of the Yuan Impacted Globa...   \n",
              "1     Qorvo® Announces Fiscal 2022 Third Quarter Fin...   \n",
              "2     Why Gatos Silver Stock Fell Another 15.5% at t...   \n",
              "3     Healthcare industry expects Budget 2022 to hik...   \n",
              "4     American FX Fund CEO Sent to Jail for Running ...   \n",
              "...                                                 ...   \n",
              "2201  Europe euphoria remains despite China crash, s...   \n",
              "2202  Facebook faces $3.1 billion class-action lawsu...   \n",
              "2203     Kulicke and Soffa: Fiscal Q1 Earnings Snapshot   \n",
              "2204  Paxos Welcomes Ben Gray as Global General Coun...   \n",
              "2205  Oil analysts predict a prolonged rally as OPEC...   \n",
              "\n",
              "                                                   body  label  \n",
              "0     How Has the Devaluation of the Yuan Impacted G...      5  \n",
              "1     GREENSBORO, N.C., Feb. 02, 2022 (GLOBE NEWSWIR...      2  \n",
              "2     Shares of Gatos Silver (NYSE:GATO) fell 15.5% ...      1  \n",
              "3     Healthcare industry expects Budget 2022 to hik...      3  \n",
              "4     The U.S Federal Bureau of Investigation (FBI) ...      4  \n",
              "...                                                 ...    ...  \n",
              "2201  Europe remains a robust investment despite the...      0  \n",
              "2202  A British academic wants Facebook to pay more ...      6  \n",
              "2203  SINGAPORE (AP) _ Kulicke and Soffa Industries ...      9  \n",
              "2204  Gray Brings Proven Experience in Scaling Globa...      5  \n",
              "2205                                                NaN      8  \n",
              "\n",
              "[2206 rows x 5 columns]"
            ]
          },
          "metadata": {},
          "execution_count": 11
        }
      ]
    },
    {
      "cell_type": "code",
      "source": [
        "vectorizer = TfidfVectorizer(stop_words = 'english', max_features=1000)"
      ],
      "metadata": {
        "id": "1C1rOZon0Wbh"
      },
      "execution_count": null,
      "outputs": []
    },
    {
      "cell_type": "code",
      "source": [
        "x = financial_corpus_df['body']\n",
        "y = financial_corpus_df['label']"
      ],
      "metadata": {
        "id": "Vq5edKBL0miz"
      },
      "execution_count": null,
      "outputs": []
    },
    {
      "cell_type": "code",
      "source": [
        "vectorized_x = vectorizer.fit_transform(x.values.astype('U'))"
      ],
      "metadata": {
        "id": "cHwQq3qj0vLq"
      },
      "execution_count": null,
      "outputs": []
    },
    {
      "cell_type": "code",
      "source": [
        "rf_clf = RandomForestClassifier()"
      ],
      "metadata": {
        "id": "eHjexI8j3UDU"
      },
      "execution_count": null,
      "outputs": []
    },
    {
      "cell_type": "code",
      "source": [
        " rf_clf.fit(vectorized_x, y)"
      ],
      "metadata": {
        "colab": {
          "base_uri": "https://localhost:8080/"
        },
        "id": "IT9LeIgO3Zvj",
        "outputId": "8d45378a-26a7-4721-dc1e-ded19cbbc38b"
      },
      "execution_count": null,
      "outputs": [
        {
          "output_type": "execute_result",
          "data": {
            "text/plain": [
              "RandomForestClassifier()"
            ]
          },
          "metadata": {},
          "execution_count": 18
        }
      ]
    },
    {
      "cell_type": "code",
      "source": [
        "pickle.dump(rf_clf, open('financial_text_classifier.pkl', 'wb'))\n",
        "pickle.dump(vectorizer, open('fianncial_text_vectorizer.pkl', 'wb'))\n",
        "pickle.dump(label_encoder, open('financial_text_encoder.pkl', 'wb'))"
      ],
      "metadata": {
        "id": "G1oAq15y3kgb"
      },
      "execution_count": null,
      "outputs": []
    }
  ]
}